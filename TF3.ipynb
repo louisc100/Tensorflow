{
 "cells": [
  {
   "cell_type": "markdown",
   "id": "db2f7879",
   "metadata": {},
   "source": [
    "# Tensorflow Core Learning Algorithms 2"
   ]
  },
  {
   "cell_type": "markdown",
   "id": "552036fd",
   "metadata": {},
   "source": [
    "## Classification"
   ]
  },
  {
   "cell_type": "markdown",
   "id": "85bbf10d",
   "metadata": {},
   "source": []
  }
 ],
 "metadata": {
  "language_info": {
   "name": "python"
  }
 },
 "nbformat": 4,
 "nbformat_minor": 5
}
