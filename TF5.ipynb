{
 "cells": [
  {
   "cell_type": "markdown",
   "id": "e2da6d06",
   "metadata": {},
   "source": [
    "# Neural Networks with TensorFlow\n",
    "In this module, we're gonna be talking about how neural networks work and a little bit of the math behind them. Talking about gradient descent, back propagation, and how information flows to the neural network.\n",
    "\n",
    "The whole point of neural network is to make a prediction or classification.  So, given some input information, then we feed it to the neural network, and then we want it to give us some output.\n",
    "\n",
    "There are 3 types of layer in neural network:\n",
    "- Input Layer: This layer receives the input information of something we want to predict/classify. For example, if we are classifying handwritten digits given an image, then our input information are the values of each pixel of the image we want to predict/classify. So, if the image is 28 $\\times$ 28 pixels, then there would be 28 $\\times$ 28 = 784 input neurons/nodes for the input layer.\n",
    "\n",
    "- Output Layer: This layer is going to have as many neurons (nodes) as output pieces that we want. For example, we want to classify images into 2 classes, we could use one output neuron whose values guaranteed to lie in [0, 1], we can say if the output value is closer to 0 then it would be class 0 and if it's closer to 1 then it would be class 1. In other instances, when we're doing classification, what makes more sense is to have as many output neurons as classes you're looking to predict for where each neuron lies in [0,1] and their sum is 1, this forms a probability distribution. And, when doing regression task, we would have one output neuron.\n",
    "\n",
    "- Hidden layer: We can have as many hidden layers as we want. Its called hidden because we don't observe it when we're using neural network.\n",
    "\n",
    "Each neuron (node) in layer is connected to neuron in another layer with **weight** (edge). These weights are the trainable parameters that neural network will tweak and change to get the best possible result.\n",
    "\n",
    "An extra adjustable constant added to each neuron's weighted sum is called **bias**.\n",
    "\n",
    "The value of each neuron $N$ in the next layer is the weighted sum of all neurons from the previous layer with their respective weights that are connected to neuron $N$ plus the bias for that particular neuron which then we apply **activation function** to.\n"
   ]
  },
  {
   "cell_type": "markdown",
   "id": "87f47165",
   "metadata": {},
   "source": [
    "## Activation Function\n",
    "Activation functions are simply a function that is applied to the weighted sum of a neuron. They can be anything we want but are typically higehr order/degree functions that aim to add higher dimension of our data. We would want to do this to introduce more complexity to our model. By transforming our data to a higher dimension we can typically make better, more complex predictions.\n",
    "\n",
    "The followings are some common activation functions:\n",
    "- Relu (Rectified Linear Unit)\n",
    "- Tanh (Hyperbolic Tangent)\n",
    "- Sigmoid"
   ]
  },
  {
   "cell_type": "markdown",
   "id": "e758b9ad",
   "metadata": {},
   "source": [
    "## Loss Function\n",
    "Loss functions calculate how far away our output was from our expected output, it is going to give some value that represents how bad or how good this network. If it tells the network was really bad, it gives a really high loss, then that tells us that we need to tweak the weights and biases more and move to in a different direction.\n",
    "\n",
    "The followings are common loss/cost functions:\n",
    "- Mean Squared Error\n",
    "- Mean Absolute Error\n",
    "- Hinge Loss"
   ]
  },
  {
   "cell_type": "markdown",
   "id": "846b0fe0",
   "metadata": {},
   "source": [
    "## Gradient Descent and Backpropagation\n",
    "Gradient descent and backpropagation are closely related. Gradient descent is the algorithm used to find the optimal parameters (weights and biases) for our network, while backpropagation is the process of calculating the gradient that is used in the gradient descent step.\n",
    "\n",
    "Gradient descent requires some pretty advanced calculus and linear algebra to understand.\n",
    "\n",
    "\"Gradient descent is an optimization algorithm used to minimize some function by iteratively moving in the direction of steepest descent as defined by the negative of the gradient. In machine learning, we use gradient descent to update the parameters of our model.\" (https://ml-cheatsheet.readthedocs.io/en/latest/gradient_descent.html)"
   ]
  },
  {
   "cell_type": "markdown",
   "id": "9e7bee20",
   "metadata": {},
   "source": [
    "## Optimizer\n",
    "Optimizer is simply the function that implements the backpropagation algorithm. \n",
    "\n",
    "Here are some common optimization functions:\n",
    "- Gradient Descent\n",
    "- Stochastic Gradient Descent\n",
    "- Mini-Batch Gradient Descent\n",
    "- Momentum\n",
    "- Nesterov Accelerated Gradient\n",
    "\n",
    "(https://medium.com/@sdoshi579/optimizers-for-training-neural-network-59450d71caf6)"
   ]
  },
  {
   "cell_type": "markdown",
   "id": "d53cbba6",
   "metadata": {},
   "source": [
    "## Imports"
   ]
  },
  {
   "cell_type": "code",
   "execution_count": 19,
   "id": "f053e496",
   "metadata": {},
   "outputs": [],
   "source": [
    "import tensorflow as tf\n",
    "from tensorflow import keras\n",
    "\n",
    "import numpy as np\n",
    "import matplotlib.pyplot as plt"
   ]
  },
  {
   "cell_type": "markdown",
   "id": "3a731c44",
   "metadata": {},
   "source": [
    "## Dataset\n",
    "For this tutorial, we will use the MNIST Fashion Dataset. This is a dataset that is included in keras.\n",
    "\n",
    "This dataset includes 60,000 images for training and 10,000 images for validation/testing."
   ]
  },
  {
   "cell_type": "code",
   "execution_count": 20,
   "id": "8c37167c",
   "metadata": {},
   "outputs": [
    {
     "name": "stdout",
     "output_type": "stream",
     "text": [
      "Downloading data from https://storage.googleapis.com/tensorflow/tf-keras-datasets/train-labels-idx1-ubyte.gz\n",
      "29515/29515 [==============================] - 0s 0us/step\n",
      "Downloading data from https://storage.googleapis.com/tensorflow/tf-keras-datasets/train-images-idx3-ubyte.gz\n",
      "26421880/26421880 [==============================] - 1s 0us/step\n",
      "Downloading data from https://storage.googleapis.com/tensorflow/tf-keras-datasets/t10k-labels-idx1-ubyte.gz\n",
      "5148/5148 [==============================] - 0s 0us/step\n",
      "Downloading data from https://storage.googleapis.com/tensorflow/tf-keras-datasets/t10k-images-idx3-ubyte.gz\n",
      "4422102/4422102 [==============================] - 0s 0us/step\n"
     ]
    }
   ],
   "source": [
    "fashion_mnist = keras.datasets.fashion_mnist   # load dataset\n",
    "\n",
    "(train_images, train_labels), (test_images, test_labels) = fashion_mnist.load_data()   # split into testing and training"
   ]
  },
  {
   "cell_type": "markdown",
   "id": "c9f7b2be",
   "metadata": {},
   "source": [
    "Let's have a look at this data to see what we are working with."
   ]
  },
  {
   "cell_type": "code",
   "execution_count": 33,
   "id": "d40154ac",
   "metadata": {},
   "outputs": [
    {
     "data": {
      "text/plain": [
       "(60000, 28, 28)"
      ]
     },
     "execution_count": 33,
     "metadata": {},
     "output_type": "execute_result"
    }
   ],
   "source": [
    "train_images.shape"
   ]
  },
  {
   "cell_type": "markdown",
   "id": "20c3f886",
   "metadata": {},
   "source": [
    "So, we've got 60,000 images that are made up of 28 $\\times$ 28 pixels (784 in total)."
   ]
  },
  {
   "cell_type": "code",
   "execution_count": 35,
   "id": "a6c7fc8b",
   "metadata": {},
   "outputs": [
    {
     "data": {
      "text/plain": [
       "194"
      ]
     },
     "execution_count": 35,
     "metadata": {},
     "output_type": "execute_result"
    }
   ],
   "source": [
    "train_images[0, 23, 23] # let's have a look at one pixel"
   ]
  },
  {
   "cell_type": "markdown",
   "id": "16ea36ef",
   "metadata": {},
   "source": [
    "Our pixel values are between 0 and 255, 0 being black and 255 being white. This means we have a grayscale image as there are no color channels."
   ]
  },
  {
   "cell_type": "code",
   "execution_count": 36,
   "id": "ddba6a0e",
   "metadata": {},
   "outputs": [
    {
     "data": {
      "text/plain": [
       "array([9, 0, 0, 3, 0, 2, 7, 2, 5, 5], dtype=uint8)"
      ]
     },
     "execution_count": 36,
     "metadata": {},
     "output_type": "execute_result"
    }
   ],
   "source": [
    "train_labels[:10] # let's have a look at the first 10 training labels"
   ]
  },
  {
   "cell_type": "markdown",
   "id": "4dc956a1",
   "metadata": {},
   "source": [
    "Our labels are integers from 0 - 9. Each integer represents a specific article of clothing. We'll create an array of label names to indicate which is which."
   ]
  },
  {
   "cell_type": "code",
   "execution_count": 40,
   "id": "02bb0f43",
   "metadata": {},
   "outputs": [],
   "source": [
    "class_names = ['T-shirt/top', 'Trouser', 'Pullover', 'Dress', 'Coat',\n",
    "               'Sandal', 'Shirt', 'Sneaker', 'Bag', 'Ankle boot']"
   ]
  },
  {
   "cell_type": "markdown",
   "id": "cb92edbf",
   "metadata": {},
   "source": [
    "Finally. let's look at what some of these images look like!"
   ]
  },
  {
   "cell_type": "code",
   "execution_count": 68,
   "id": "888b3e0f",
   "metadata": {},
   "outputs": [
    {
     "data": {
      "image/png": "[encoded data removed]",
      "text/plain": [
       "<Figure size 640x480 with 2 Axes>"
      ]
     },
     "metadata": {},
     "output_type": "display_data"
    }
   ],
   "source": [
    "plt.figure()\n",
    "plt.imshow(train_images[0]) # plt.imshow() takes a 2D array and displays image that representing that array\n",
    "plt.colorbar()\n",
    "plt.grid(False)\n",
    "plt.show()"
   ]
  },
  {
   "cell_type": "markdown",
   "id": "b25d50cc",
   "metadata": {},
   "source": [
    "## Data Preprocessing\n",
    "The last step before creating our model is to *preprocess* our data. This simply means applying some prior transformations to our data before feeding it the model. In this case we will simply scale all of our greyscale pixel values (0-255) to be between 0 and 1. We can do this by dividing each value in the training and testing sets by 255.0. We do this because smaller values will make it easier for the model to process our values."
   ]
  },
  {
   "cell_type": "code",
   "execution_count": 69,
   "id": "54ad2a0b",
   "metadata": {},
   "outputs": [],
   "source": [
    "train_images = train_images / 255.0\n",
    "\n",
    "test_images = test_images / 255.0"
   ]
  },
  {
   "cell_type": "markdown",
   "id": "5dd37e84",
   "metadata": {},
   "source": [
    "## Building the Model\n",
    "Now it's time to build the model! We are going to use keras *sequential* model with three different layers. This model represents a feed-forward neural network (one that passes value from left to right). We'll break down each layer and its architecture below."
   ]
  },
  {
   "cell_type": "code",
   "execution_count": 70,
   "id": "836f114d",
   "metadata": {},
   "outputs": [],
   "source": [
    "model = keras.Sequential([\n",
    "    keras.layers.Flatten(input_shape=(28, 28)),   # input layer (1)\n",
    "    keras.layers.Dense(128, activation='relu'),   # hidden layer (2)\n",
    "    keras.layers.Dense(10, activation='softmax')  # output layer (3)\n",
    "])"
   ]
  },
  {
   "cell_type": "markdown",
   "id": "0bddd6ef",
   "metadata": {},
   "source": [
    "**Layer 1:** This is our input layer and it will consist of 784 neurons. We use the flatten layer with an input shape of (28,28) to denote that our input should come in in that shape. The flatten means that our layer will reshape the shape (28,28) array into a vector of 784 neurons so that each pixel will be associated with one neuron.\n",
    "\n",
    "**Layer 2:** This is our first and only hidden layer. The *dense* denotes that this layer will be fully connected and each neuron from the previous layer connects to each neuron of this layer. It has 128 neurons and uses the rectify linear unit activation function.\n",
    "\n",
    "**Layer 3:** This is our output layerand is also a dense layer. It has 10 neurons that we will look at to determine our models output. Each neuron represents the probability of a given image being one of the 10 different classes. The activation function *softmax* is used on this layer to calculate a probability distribution for each class. This means the value of any neuron in this layer will be between 0 and 1, where 1 represents a high probability of the image being that class."
   ]
  },
  {
   "cell_type": "markdown",
   "id": "a77c127e",
   "metadata": {},
   "source": [
    "## Compile the Model\n",
    "The last step in building the model is to define the loss function, optimizer and metrics we would like to track. We won't fo into detail about why we chose each of these right now."
   ]
  },
  {
   "cell_type": "code",
   "execution_count": 71,
   "id": "12aaab33",
   "metadata": {},
   "outputs": [],
   "source": [
    "model.compile(optimizer='adam',\n",
    "              loss='sparse_categorical_crossentropy',\n",
    "              metrics=['accuracy'])"
   ]
  },
  {
   "cell_type": "markdown",
   "id": "37248952",
   "metadata": {},
   "source": [
    "## Training the Model\n",
    "Now it's finally time to train the model."
   ]
  },
  {
   "cell_type": "code",
   "execution_count": 74,
   "id": "12f05f07",
   "metadata": {},
   "outputs": [
    {
     "name": "stdout",
     "output_type": "stream",
     "text": [
      "Epoch 1/10\n",
      "1875/1875 [==============================] - 1s 495us/step - loss: 0.2309 - accuracy: 0.9143\n",
      "Epoch 2/10\n",
      "1875/1875 [==============================] - 1s 501us/step - loss: 0.2229 - accuracy: 0.9160\n",
      "Epoch 3/10\n",
      "1875/1875 [==============================] - 1s 493us/step - loss: 0.2166 - accuracy: 0.9180\n",
      "Epoch 4/10\n",
      "1875/1875 [==============================] - 1s 499us/step - loss: 0.2102 - accuracy: 0.9224\n",
      "Epoch 5/10\n",
      "1875/1875 [==============================] - 1s 496us/step - loss: 0.2039 - accuracy: 0.9233\n",
      "Epoch 6/10\n",
      "1875/1875 [==============================] - 1s 497us/step - loss: 0.1979 - accuracy: 0.9255\n",
      "Epoch 7/10\n",
      "1875/1875 [==============================] - 1s 496us/step - loss: 0.1922 - accuracy: 0.9270\n",
      "Epoch 8/10\n",
      "1875/1875 [==============================] - 1s 564us/step - loss: 0.1872 - accuracy: 0.9296\n",
      "Epoch 9/10\n",
      "1875/1875 [==============================] - 1s 502us/step - loss: 0.1840 - accuracy: 0.9297\n",
      "Epoch 10/10\n",
      "1875/1875 [==============================] - 1s 486us/step - loss: 0.1781 - accuracy: 0.9325\n"
     ]
    },
    {
     "data": {
      "text/plain": [
       "<keras.src.callbacks.History at 0x156871a10>"
      ]
     },
     "execution_count": 74,
     "metadata": {},
     "output_type": "execute_result"
    }
   ],
   "source": [
    "model.fit(train_images, train_labels, epochs=10) # we pass the data, labels and epochs and watch the magic!"
   ]
  },
  {
   "cell_type": "markdown",
   "id": "e082d6ed",
   "metadata": {},
   "source": [
    "## Evaluating the Model\n",
    "Now it's time to test/evaluate the model. We can do this using another builtin method from keras.\n",
    "\n",
    "The *verbose* argument is defined from the keras documentation as: \"verbose: 0 or 1. Verbosity mode. 0 = silent, 1 = progress bar.\"\n",
    "\n",
    "(https://keras.io/models/sequential/)"
   ]
  },
  {
   "cell_type": "code",
   "execution_count": 75,
   "id": "69609dc7",
   "metadata": {},
   "outputs": [
    {
     "name": "stdout",
     "output_type": "stream",
     "text": [
      "313/313 [==============================] - 0s 339us/step - loss: 0.3497 - accuracy: 0.8867\n",
      "Test accuracy: 0.8866999745368958\n"
     ]
    }
   ],
   "source": [
    "test_loss, test_acc = model.evaluate(test_images, test_labels, verbose=1)\n",
    "\n",
    "print('Test accuracy:', test_acc)"
   ]
  },
  {
   "cell_type": "markdown",
   "id": "44eb11ab",
   "metadata": {},
   "source": [
    "You'll likely notice that the accuracy here is lower than when training the model. This difference is reffered to as **overfitting**.\n",
    "\n",
    "Now we have a trained model that's ready to use to predict some values!"
   ]
  },
  {
   "cell_type": "markdown",
   "id": "9ecd0f32",
   "metadata": {},
   "source": [
    "## Making Predictions\n",
    "To make predictions we simply need to pass an array of data in the form we've specified in the input layer to `.predict()` method."
   ]
  },
  {
   "cell_type": "code",
   "execution_count": 79,
   "id": "f91d0548",
   "metadata": {},
   "outputs": [
    {
     "name": "stdout",
     "output_type": "stream",
     "text": [
      "313/313 [==============================] - 0s 308us/step\n"
     ]
    }
   ],
   "source": [
    "predictions = model.predict(test_images)"
   ]
  },
  {
   "cell_type": "markdown",
   "id": "d32515d7",
   "metadata": {},
   "source": [
    "This method return to us an array of predictions for each image we passed it. Let's have a look at the predictions for image 1."
   ]
  },
  {
   "cell_type": "code",
   "execution_count": 80,
   "id": "6c94f082",
   "metadata": {},
   "outputs": [
    {
     "data": {
      "text/plain": [
       "array([3.0814620e-10, 2.1893593e-14, 2.0533968e-14, 3.7638937e-11,\n",
       "       3.2119089e-11, 9.4900839e-05, 4.0772044e-08, 2.5110977e-04,\n",
       "       7.7709375e-12, 9.9965394e-01], dtype=float32)"
      ]
     },
     "execution_count": 80,
     "metadata": {},
     "output_type": "execute_result"
    }
   ],
   "source": [
    "predictions[0]"
   ]
  },
  {
   "cell_type": "markdown",
   "id": "108e386c",
   "metadata": {},
   "source": [
    "Those 10 values form a probability distribution across the 10 classes. We want the class which has the highest probability."
   ]
  },
  {
   "cell_type": "markdown",
   "id": "67cbd72a",
   "metadata": {},
   "source": [
    "## Checking"
   ]
  },
  {
   "cell_type": "code",
   "execution_count": 125,
   "id": "0cf87bf4",
   "metadata": {},
   "outputs": [
    {
     "name": "stdout",
     "output_type": "stream",
     "text": [
      "Pullover\n"
     ]
    },
    {
     "data": {
      "image/png": "[encoded data removed]",
      "text/plain": [
       "<Figure size 640x480 with 2 Axes>"
      ]
     },
     "metadata": {},
     "output_type": "display_data"
    }
   ],
   "source": [
    "k=1\n",
    "print(class_names[np.argmax(predictions[k])])  # np.argmax() returns the index of the maximum value in an array\n",
    "plt.figure()\n",
    "plt.imshow(test_images[k])\n",
    "plt.colorbar()\n",
    "plt.grid(False)\n",
    "plt.show()"
   ]
  },
  {
   "cell_type": "markdown",
   "id": "9f3a53a4",
   "metadata": {},
   "source": [
    "## Verifying Predictions\n",
    "Small function to help us verify predictions with some simple visuals."
   ]
  },
  {
   "cell_type": "code",
   "execution_count": 128,
   "id": "a1653331",
   "metadata": {},
   "outputs": [
    {
     "name": "stdout",
     "output_type": "stream",
     "text": [
      "1/1 [==============================] - 0s 11ms/step\n"
     ]
    },
    {
     "data": {
      "image/png": "[encoded data removed]",
      "text/plain": [
       "<Figure size 640x480 with 2 Axes>"
      ]
     },
     "metadata": {},
     "output_type": "display_data"
    }
   ],
   "source": [
    "COLOR = 'black'\n",
    "plt.rcParams['text.color'] = COLOR\n",
    "plt.rcParams['axes.labelcolor'] = COLOR\n",
    "\n",
    "def predict(model, image, correct_label):\n",
    "    class_names = ['T-shirt/top', 'Trouser', 'Pullover', 'Dress', 'Coat',\n",
    "                   'Sandal', 'Shirt', 'Sneaker', 'Bag', 'Ankle boot']\n",
    "    prediction = model.predict(np.array([image]))\n",
    "    predicted_class = class_names[np.argmax(prediction)]\n",
    "\n",
    "    show_image(image, class_names[correct_label], predicted_class)\n",
    "\n",
    "def show_image(img, label, guess):\n",
    "    plt.figure()\n",
    "    plt.imshow(img, cmap=plt.cm.binary)\n",
    "    plt.title(\"Expected: \" + label)\n",
    "    plt.xlabel(\"Guess: \" + guess)\n",
    "    plt.colorbar()\n",
    "    plt.grid(False)\n",
    "    plt.show()\n",
    "\n",
    "def get_number():\n",
    "    while True:\n",
    "        num = input(\"Pick a numer: \")\n",
    "        if num.isdigit():\n",
    "            num = int(num)\n",
    "            if 0 <= num <= 1000:\n",
    "                return int(num)\n",
    "        else:\n",
    "            print(\"Try again...\")\n",
    "\n",
    "num = get_number()\n",
    "image = test_images[num]\n",
    "label = test_labels[num]\n",
    "predict(model, image, label)"
   ]
  },
  {
   "cell_type": "markdown",
   "id": "861fe909",
   "metadata": {},
   "source": []
  }
 ],
 "metadata": {
  "kernelspec": {
   "display_name": "base",
   "language": "python",
   "name": "python3"
  },
  "language_info": {
   "codemirror_mode": {
    "name": "ipython",
    "version": 3
   },
   "file_extension": ".py",
   "mimetype": "text/x-python",
   "name": "python",
   "nbconvert_exporter": "python",
   "pygments_lexer": "ipython3",
   "version": "3.11.4"
  }
 },
 "nbformat": 4,
 "nbformat_minor": 5
}
