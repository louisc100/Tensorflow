{
 "cells": [
  {
   "cell_type": "markdown",
   "id": "e2da6d06",
   "metadata": {},
   "source": [
    "# Neural Networks with TensorFlow\n",
    "In this module, we're gonna be talking about how neural networks work and a little bit of the math behind them. Talking about gradient descent, back propagation, and how information flows to the neural network.\n",
    "\n",
    "The whole point of neural network is to make a prediction or classification.  So, given some input information, then we feed it to the neural network, and then we want it to give us some output."
   ]
  },
  {
   "cell_type": "code",
   "execution_count": null,
   "id": "66cbb451",
   "metadata": {},
   "outputs": [],
   "source": []
  }
 ],
 "metadata": {
  "kernelspec": {
   "display_name": "base",
   "language": "python",
   "name": "python3"
  },
  "language_info": {
   "name": "python",
   "version": "3.11.4"
  }
 },
 "nbformat": 4,
 "nbformat_minor": 5
}
