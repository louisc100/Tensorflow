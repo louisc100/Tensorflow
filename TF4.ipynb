{
 "cells": [
  {
   "cell_type": "markdown",
   "id": "cf27df2b",
   "metadata": {},
   "source": [
    "# Tensorflow Core Learning Algorithms 3"
   ]
  },
  {
   "cell_type": "markdown",
   "id": "a3685544",
   "metadata": {},
   "source": [
    "## Clustering\n",
    "Now that"
   ]
  },
  {
   "cell_type": "markdown",
   "id": "188417f9",
   "metadata": {},
   "source": []
  }
 ],
 "metadata": {
  "kernelspec": {
   "display_name": "base",
   "language": "python",
   "name": "python3"
  },
  "language_info": {
   "name": "python",
   "version": "3.11.4"
  }
 },
 "nbformat": 4,
 "nbformat_minor": 5
}
